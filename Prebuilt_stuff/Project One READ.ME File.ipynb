{
 "cells": [
  {
   "cell_type": "markdown",
   "metadata": {},
   "source": [
    "# Microsoft Movie Project\n",
    "Helen Abele, Jerry Hudspeth, Josh Hill"
   ]
  },
  {
   "cell_type": "markdown",
   "metadata": {},
   "source": [
    "# Overview\n",
    "Microsoft applied us the job of letting their stakeholders know how to make a successful movie. We were given data that we were to organize so that Microsoft can make an informed decision. To decipher all the data we used SQL, Pandas, and Seaborn. All of which are through the Python library. With the given data we concluded that the most profitable genre is Adventure. We then followed this up by finding the best directors in the adventure genre. Using the IMBD and TMBD databases, we were able to find who has directed the most adventure movies and who has directed the most profitable adventure movie. With this data, we concluded that Microsoft should create an adventure movie directed by Kyle Badla."
   ]
  },
  {
   "cell_type": "markdown",
   "metadata": {},
   "source": [
    "# Business Problem\n",
    "The main point for our business's project is that we want Microsoft to be profitable as possible in this movie venture. At first look at the data, we realized that just looking at movies would be too broad, so we then decided to look at the genre. After finding the most profitable genre, we then decided to look further into what made that genre so profitable. We started by looking at the popular actors in that genre but quickly realized that we did not have enough data to support this venture. This led us at looking at which director was the most successful in the adventure genre. We deemed these questions important because, at the end of the day, a company measures success on how much money they make, and we concluded that an adventure movie would make Microsoft the most money."
   ]
  },
  {
   "cell_type": "markdown",
   "metadata": {},
   "source": [
    "# Data\n",
    "The data we used in making this proposal came from Box Office Mojo, IMDB, the-numbers.com, TheMovieDB.org, and Rotten Tomatoes. This data helped us discover our target variable, worldwide profit. Once the data was cleaned, we used things such as run time, Average Vote from TMBD, and most profitable genre to present our variable."
   ]
  },
  {
   "cell_type": "markdown",
   "metadata": {},
   "source": [
    "# Methods\n",
    "In order to analyze our data, we used the Python libraries and the tools, SQL, Pandas, and Seaborn. We used SQL for database queries, Pandas for cleaning and filtering, and Seaborn for our visuals. These methods helped us present our data in the best way possible. With the data analysis tools, we were able to seamlessly present our project."
   ]
  },
  {
   "cell_type": "markdown",
   "metadata": {},
   "source": [
    "# Visuals"
   ]
  },
  {
   "cell_type": "code",
   "execution_count": null,
   "metadata": {},
   "outputs": [],
   "source": []
  }
 ],
 "metadata": {
  "kernelspec": {
   "display_name": "learn-env",
   "language": "python",
   "name": "learn-env"
  },
  "language_info": {
   "codemirror_mode": {
    "name": "ipython",
    "version": 3
   },
   "file_extension": ".py",
   "mimetype": "text/x-python",
   "name": "python",
   "nbconvert_exporter": "python",
   "pygments_lexer": "ipython3",
   "version": "3.8.5"
  }
 },
 "nbformat": 4,
 "nbformat_minor": 4
}
