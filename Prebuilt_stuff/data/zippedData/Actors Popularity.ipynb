{
 "cells": [
  {
   "cell_type": "markdown",
   "metadata": {},
   "source": [
    "After looking at genre and their population among consumers, I then compiled a list of the main actors from each of the top grossing movies. "
   ]
  },
  {
   "cell_type": "markdown",
   "metadata": {},
   "source": [
    "Sci-Fi: \n",
    "    Avatar - Zoe Saldana, Sam Worthington\n",
    "Adventure: \n",
    "    Pirates of the Caribbean: On Stranger Tides - Johny Depp, Penelop Cruz, Kiera Knightly, Orlando Bloom\n",
    "Action: \n",
    "    Dark Pheonix - Shopie Turner, James McAvoy, Jennifer Lawrence, Evan Peters\n"
   ]
  }
 ],
 "metadata": {
  "kernelspec": {
   "display_name": "learn-env",
   "language": "python",
   "name": "learn-env"
  },
  "language_info": {
   "codemirror_mode": {
    "name": "ipython",
    "version": 3
   },
   "file_extension": ".py",
   "mimetype": "text/x-python",
   "name": "python",
   "nbconvert_exporter": "python",
   "pygments_lexer": "ipython3",
   "version": "3.8.5"
  }
 },
 "nbformat": 4,
 "nbformat_minor": 4
}
