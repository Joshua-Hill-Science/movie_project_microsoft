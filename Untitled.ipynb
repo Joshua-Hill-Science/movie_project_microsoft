{
 "cells": [
  {
   "cell_type": "markdown",
   "id": "67752ce9-58d8-4f0b-9c8a-a849f3cce3b7",
   "metadata": {},
   "source": [
    "# Pulling Budget information from Jerry's code.\n",
    "\n",
    "## Attempting to use merging code to make budget graphs from my Rotten Tomatoes data"
   ]
  },
  {
   "cell_type": "code",
   "execution_count": 4,
   "id": "fde0c78b-160d-426c-9c06-41c9c0760a16",
   "metadata": {},
   "outputs": [],
   "source": [
    "import pandas as pd\n",
    "import json\n",
    "import sqlite3\n",
    "import matplotlib.pyplot as plt\n",
    "import seaborn as sns\n",
    "conn = sqlite3.connect(\"Prebuilt_stuff/data/movies.db\")"
   ]
  },
  {
   "cell_type": "code",
   "execution_count": null,
   "id": "3a3b69f8-a9a0-4d90-96bf-fc6d0a335185",
   "metadata": {},
   "outputs": [],
   "source": []
  },
  {
   "cell_type": "markdown",
   "id": "2ae1328f-d8ab-4036-8c59-8f51dd05d6f1",
   "metadata": {},
   "source": [
    "### Importing Jerry's code"
   ]
  },
  {
   "cell_type": "code",
   "execution_count": 14,
   "id": "81fc455f-2081-42b4-8d27-0d9b7949268c",
   "metadata": {},
   "outputs": [],
   "source": [
    "# Asked for .csv in slack"
   ]
  },
  {
   "cell_type": "code",
   "execution_count": null,
   "id": "06d8697e-5d50-4394-994f-7841e813c7a3",
   "metadata": {},
   "outputs": [],
   "source": []
  },
  {
   "cell_type": "code",
   "execution_count": null,
   "id": "2e4e66d8-2ce0-464e-9418-21db7445dfe1",
   "metadata": {},
   "outputs": [],
   "source": []
  },
  {
   "cell_type": "code",
   "execution_count": null,
   "id": "d018cf22-6bfc-4e44-8490-8e80b83b119d",
   "metadata": {},
   "outputs": [],
   "source": []
  },
  {
   "cell_type": "markdown",
   "id": "959d2d93-2725-4780-a715-d206b167e289",
   "metadata": {},
   "source": [
    "Importing my previous work into this folder for merging"
   ]
  },
  {
   "cell_type": "code",
   "execution_count": 11,
   "id": "7816d933-81e8-4ca8-b866-8d74c425d051",
   "metadata": {},
   "outputs": [],
   "source": [
    "clean_title = pd.read_csv(\"Prebuilt_stuff/data/rotten_tomatoes_clean_titles.csv\")"
   ]
  },
  {
   "cell_type": "code",
   "execution_count": 12,
   "id": "c6103ed9-980c-4df2-848b-e757b1e8dcfb",
   "metadata": {},
   "outputs": [
    {
     "data": {
      "text/plain": [
       "Index(['Unnamed: 0', 'title', 'production_company', 'audience_status',\n",
       "       'audience_rating', 'audience_count', 'clean_titles', 'where'],\n",
       "      dtype='object')"
      ]
     },
     "execution_count": 12,
     "metadata": {},
     "output_type": "execute_result"
    }
   ],
   "source": [
    "clean_title.columns"
   ]
  },
  {
   "cell_type": "code",
   "execution_count": 13,
   "id": "49a18fe7-215d-423e-bbc9-402443f35e35",
   "metadata": {},
   "outputs": [
    {
     "data": {
      "text/html": [
       "<div>\n",
       "<style scoped>\n",
       "    .dataframe tbody tr th:only-of-type {\n",
       "        vertical-align: middle;\n",
       "    }\n",
       "\n",
       "    .dataframe tbody tr th {\n",
       "        vertical-align: top;\n",
       "    }\n",
       "\n",
       "    .dataframe thead th {\n",
       "        text-align: right;\n",
       "    }\n",
       "</style>\n",
       "<table border=\"1\" class=\"dataframe\">\n",
       "  <thead>\n",
       "    <tr style=\"text-align: right;\">\n",
       "      <th></th>\n",
       "      <th>title</th>\n",
       "      <th>production_company</th>\n",
       "      <th>audience_status</th>\n",
       "      <th>audience_rating</th>\n",
       "      <th>audience_count</th>\n",
       "      <th>clean_titles</th>\n",
       "      <th>where</th>\n",
       "    </tr>\n",
       "  </thead>\n",
       "  <tbody>\n",
       "    <tr>\n",
       "      <th>0</th>\n",
       "      <td>harry_potter_and_the_deathly_hallows__part_1</td>\n",
       "      <td>NaN</td>\n",
       "      <td>NaN</td>\n",
       "      <td>NaN</td>\n",
       "      <td>NaN</td>\n",
       "      <td>NaN</td>\n",
       "      <td>left_only</td>\n",
       "    </tr>\n",
       "    <tr>\n",
       "      <th>1</th>\n",
       "      <td>how_to_train_your_dragon</td>\n",
       "      <td>NaN</td>\n",
       "      <td>NaN</td>\n",
       "      <td>NaN</td>\n",
       "      <td>NaN</td>\n",
       "      <td>NaN</td>\n",
       "      <td>left_only</td>\n",
       "    </tr>\n",
       "    <tr>\n",
       "      <th>2</th>\n",
       "      <td>iron_man_2</td>\n",
       "      <td>Paramount Studios</td>\n",
       "      <td>Upright</td>\n",
       "      <td>71.0</td>\n",
       "      <td>480879.0</td>\n",
       "      <td>iron_man_2</td>\n",
       "      <td>both</td>\n",
       "    </tr>\n",
       "    <tr>\n",
       "      <th>3</th>\n",
       "      <td>toy_story</td>\n",
       "      <td>Buena Vista</td>\n",
       "      <td>Upright</td>\n",
       "      <td>92.0</td>\n",
       "      <td>1109209.0</td>\n",
       "      <td>toy_story</td>\n",
       "      <td>both</td>\n",
       "    </tr>\n",
       "    <tr>\n",
       "      <th>4</th>\n",
       "      <td>inception</td>\n",
       "      <td>Warner Bros. Pictures</td>\n",
       "      <td>Upright</td>\n",
       "      <td>91.0</td>\n",
       "      <td>571078.0</td>\n",
       "      <td>inception</td>\n",
       "      <td>both</td>\n",
       "    </tr>\n",
       "    <tr>\n",
       "      <th>...</th>\n",
       "      <td>...</td>\n",
       "      <td>...</td>\n",
       "      <td>...</td>\n",
       "      <td>...</td>\n",
       "      <td>...</td>\n",
       "      <td>...</td>\n",
       "      <td>...</td>\n",
       "    </tr>\n",
       "    <tr>\n",
       "      <th>35879</th>\n",
       "      <td>zoolander</td>\n",
       "      <td>Paramount Pictures</td>\n",
       "      <td>Upright</td>\n",
       "      <td>80.0</td>\n",
       "      <td>944800.0</td>\n",
       "      <td>zoolander</td>\n",
       "      <td>right_only</td>\n",
       "    </tr>\n",
       "    <tr>\n",
       "      <th>35880</th>\n",
       "      <td>zoot_suit</td>\n",
       "      <td>MCA Universal Home Video</td>\n",
       "      <td>Upright</td>\n",
       "      <td>74.0</td>\n",
       "      <td>1195.0</td>\n",
       "      <td>zoot_suit</td>\n",
       "      <td>right_only</td>\n",
       "    </tr>\n",
       "    <tr>\n",
       "      <th>35881</th>\n",
       "      <td>zorba_the_greek</td>\n",
       "      <td>Fox</td>\n",
       "      <td>Upright</td>\n",
       "      <td>86.0</td>\n",
       "      <td>7146.0</td>\n",
       "      <td>zorba_the_greek</td>\n",
       "      <td>right_only</td>\n",
       "    </tr>\n",
       "    <tr>\n",
       "      <th>35882</th>\n",
       "      <td>zulu</td>\n",
       "      <td>Paramount Pictures</td>\n",
       "      <td>Upright</td>\n",
       "      <td>91.0</td>\n",
       "      <td>30193.0</td>\n",
       "      <td>zulu</td>\n",
       "      <td>right_only</td>\n",
       "    </tr>\n",
       "    <tr>\n",
       "      <th>35883</th>\n",
       "      <td>zulu_dawn</td>\n",
       "      <td>Tango Entertainment</td>\n",
       "      <td>Upright</td>\n",
       "      <td>62.0</td>\n",
       "      <td>4469.0</td>\n",
       "      <td>zulu_dawn</td>\n",
       "      <td>right_only</td>\n",
       "    </tr>\n",
       "  </tbody>\n",
       "</table>\n",
       "<p>35884 rows × 7 columns</p>\n",
       "</div>"
      ],
      "text/plain": [
       "                                              title        production_company  \\\n",
       "0      harry_potter_and_the_deathly_hallows__part_1                       NaN   \n",
       "1                          how_to_train_your_dragon                       NaN   \n",
       "2                                        iron_man_2         Paramount Studios   \n",
       "3                                         toy_story               Buena Vista   \n",
       "4                                         inception     Warner Bros. Pictures   \n",
       "...                                             ...                       ...   \n",
       "35879                                     zoolander        Paramount Pictures   \n",
       "35880                                     zoot_suit  MCA Universal Home Video   \n",
       "35881                               zorba_the_greek                       Fox   \n",
       "35882                                          zulu        Paramount Pictures   \n",
       "35883                                     zulu_dawn       Tango Entertainment   \n",
       "\n",
       "      audience_status  audience_rating  audience_count     clean_titles  \\\n",
       "0                 NaN              NaN             NaN              NaN   \n",
       "1                 NaN              NaN             NaN              NaN   \n",
       "2             Upright             71.0        480879.0       iron_man_2   \n",
       "3             Upright             92.0       1109209.0        toy_story   \n",
       "4             Upright             91.0        571078.0        inception   \n",
       "...               ...              ...             ...              ...   \n",
       "35879         Upright             80.0        944800.0        zoolander   \n",
       "35880         Upright             74.0          1195.0        zoot_suit   \n",
       "35881         Upright             86.0          7146.0  zorba_the_greek   \n",
       "35882         Upright             91.0         30193.0             zulu   \n",
       "35883         Upright             62.0          4469.0        zulu_dawn   \n",
       "\n",
       "            where  \n",
       "0       left_only  \n",
       "1       left_only  \n",
       "2            both  \n",
       "3            both  \n",
       "4            both  \n",
       "...           ...  \n",
       "35879  right_only  \n",
       "35880  right_only  \n",
       "35881  right_only  \n",
       "35882  right_only  \n",
       "35883  right_only  \n",
       "\n",
       "[35884 rows x 7 columns]"
      ]
     },
     "execution_count": 13,
     "metadata": {},
     "output_type": "execute_result"
    }
   ],
   "source": [
    "clean_title.drop(columns='Unnamed: 0')"
   ]
  },
  {
   "cell_type": "code",
   "execution_count": null,
   "id": "5f8b6989-d617-4a73-a47b-00489376551b",
   "metadata": {},
   "outputs": [],
   "source": []
  }
 ],
 "metadata": {
  "kernelspec": {
   "display_name": "learn-env",
   "language": "python",
   "name": "learn-env"
  },
  "language_info": {
   "codemirror_mode": {
    "name": "ipython",
    "version": 3
   },
   "file_extension": ".py",
   "mimetype": "text/x-python",
   "name": "python",
   "nbconvert_exporter": "python",
   "pygments_lexer": "ipython3",
   "version": "3.8.5"
  }
 },
 "nbformat": 4,
 "nbformat_minor": 5
}
