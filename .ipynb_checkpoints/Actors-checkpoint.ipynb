{
 "cells": [
  {
   "cell_type": "markdown",
   "id": "7f1dff68-0765-48e9-9221-dad690a263cd",
   "metadata": {},
   "source": [
    "# Looking into Actors tables for analysis"
   ]
  },
  {
   "cell_type": "code",
   "execution_count": 1,
   "id": "d2217380-38ff-4041-bd6d-3a91887205a9",
   "metadata": {},
   "outputs": [],
   "source": [
    "import pandas as pd\n",
    "import json\n",
    "import sqlite3\n",
    "import matplotlib.pyplot as plt"
   ]
  },
  {
   "cell_type": "code",
   "execution_count": 28,
   "id": "f5a48854-6365-45f0-b850-3819f35436e9",
   "metadata": {},
   "outputs": [],
   "source": [
    "conn = sqlite3.connect('Prebuilt_stuff\\data\\movies.db')\n",
    "df_actors = pd.read_sql('''\n",
    "SELECT *\n",
    "FROM imdb_title_principals\n",
    "''', conn)"
   ]
  },
  {
   "cell_type": "code",
   "execution_count": 31,
   "id": "63229885-e0a5-435a-b469-88d9e5494672",
   "metadata": {},
   "outputs": [
    {
     "data": {
      "text/plain": [
       "producer                     108168\n",
       "screenplay                     8172\n",
       "director of photography        6517\n",
       "writer                         6479\n",
       "co-director                    5796\n",
       "                              ...  \n",
       "Screen Play                       1\n",
       "dramaturgy consultant             1\n",
       "novel \"Debi                       1\n",
       "vfx and film editor               1\n",
       "written for the screen by         1\n",
       "Name: job, Length: 2965, dtype: int64"
      ]
     },
     "execution_count": 31,
     "metadata": {},
     "output_type": "execute_result"
    }
   ],
   "source": [
    "df_actors['job'].value_counts()"
   ]
  },
  {
   "cell_type": "code",
   "execution_count": null,
   "id": "63fe16be-4ad9-4c03-8adf-9b28fc12ad02",
   "metadata": {},
   "outputs": [],
   "source": [
    "\n"
   ]
  }
 ],
 "metadata": {
  "kernelspec": {
   "display_name": "learn-env",
   "language": "python",
   "name": "learn-env"
  },
  "language_info": {
   "codemirror_mode": {
    "name": "ipython",
    "version": 3
   },
   "file_extension": ".py",
   "mimetype": "text/x-python",
   "name": "python",
   "nbconvert_exporter": "python",
   "pygments_lexer": "ipython3",
   "version": "3.8.5"
  }
 },
 "nbformat": 4,
 "nbformat_minor": 5
}
