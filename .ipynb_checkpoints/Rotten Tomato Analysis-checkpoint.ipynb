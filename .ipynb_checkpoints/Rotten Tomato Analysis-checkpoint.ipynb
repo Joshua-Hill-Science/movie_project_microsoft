{
 "cells": [
  {
   "cell_type": "code",
   "execution_count": 1,
   "metadata": {},
   "outputs": [],
   "source": [
    "import pandas as pd\n",
    "import json\n",
    "import sqlite3\n",
    "import matplotlib.pyplot as plt\n",
    "import seaborn as sns"
   ]
  },
  {
   "cell_type": "markdown",
   "metadata": {},
   "source": [
    "# **First steps**\n",
    "\n",
    "## Questions:\n",
    "\n",
    "What data in rotten_tomatoes_movies data is useful for a successful business?<br>\n",
    "Does the audience review data have a correlation with budget?<br>\n",
    "Does the production company have any effect on the audiece rating?<br>"
   ]
  },
  {
   "cell_type": "markdown",
   "metadata": {},
   "source": [
    "![movies.db schema](Prebuilt_stuff/images/movies_db_schema.png)"
   ]
  },
  {
   "cell_type": "code",
   "execution_count": 2,
   "metadata": {},
   "outputs": [],
   "source": [
    "#What is in this SQL table\n",
    "conn = sqlite3.connect('Prebuilt_stuff\\data\\movies.db')\n",
    "df_rotten_movies = pd.read_sql('''\n",
    "SELECT *\n",
    "FROM rotten_tomatoes_movies\n",
    "''', conn)"
   ]
  },
  {
   "cell_type": "code",
   "execution_count": 3,
   "metadata": {},
   "outputs": [],
   "source": [
    "#The sql information I want to clean and review, based on citation 1 (https://phys.org/news/2017-05-movies-highly-idiosyncraticand-odds-critics.html)\n",
    "conn = sqlite3.connect('Prebuilt_stuff\\data\\movies.db')\n",
    "r_movies_info = pd.read_sql('''\n",
    "SELECT movie_title as title, production_company, audience_status, audience_rating, audience_count\n",
    "FROM rotten_tomatoes_movies\n",
    "''', conn)"
   ]
  },
  {
   "cell_type": "code",
   "execution_count": 4,
   "metadata": {},
   "outputs": [],
   "source": [
    "r_movies_info_c = r_movies_info.dropna()"
   ]
  },
  {
   "cell_type": "code",
   "execution_count": 5,
   "metadata": {},
   "outputs": [
    {
     "name": "stdout",
     "output_type": "stream",
     "text": [
      "(16832, 5)\n"
     ]
    },
    {
     "data": {
      "text/plain": [
       "(17712, 23)"
      ]
     },
     "execution_count": 5,
     "metadata": {},
     "output_type": "execute_result"
    }
   ],
   "source": [
    "#Comparing how much data was dropped and reduced during stage one cleaning.\n",
    "print(r_movies_info_c.shape)\n",
    "df_rotten_movies.shape"
   ]
  },
  {
   "cell_type": "markdown",
   "metadata": {},
   "source": [
    "### Rotten Tomatoe audience rating:\n",
    "\n",
    "Using Rotten Tomatoes spilled rating score (https://www.rottentomatoes.com/about#whatisthetomatometer) comparing how many in the data base are upright or not."
   ]
  },
  {
   "cell_type": "code",
   "execution_count": 6,
   "metadata": {},
   "outputs": [],
   "source": [
    "# Need to create a new column as an int for analysis. Not sure what in this code is broken\n",
    "# r_movies_info_c[\"audience_upright\"] = r_movies_info_c.loc[(r_movies_info_c[\"audience_status\"] == \"Upright\")]\n",
    "# r_movies_info_c2 = r_movies_info_c.drop_duplicates('movie_title')"
   ]
  },
  {
   "cell_type": "code",
   "execution_count": 7,
   "metadata": {},
   "outputs": [],
   "source": [
    "# Need to fix this cell!\n",
    "# Upright = r_movies_info_c2.audience_upright.value_counts()\n",
    "# filled = lambda x: 'Upright' if x == 1 else \"Spilled\"\n",
    "# plt.bar([filled(x) for x in Upright.index], Upright.values)\n",
    "# plt.title('Rotten Reviews Upright or Spilled');"
   ]
  },
  {
   "cell_type": "code",
   "execution_count": 8,
   "metadata": {},
   "outputs": [],
   "source": [
    "# r_ratings_upright = r_movies_info_c2.loc[r_movies_info_c2[\"audience_upright\"] == 1]\n",
    "# Need to fix this cell!"
   ]
  },
  {
   "cell_type": "code",
   "execution_count": 9,
   "metadata": {},
   "outputs": [
    {
     "name": "stdout",
     "output_type": "stream",
     "text": [
      "<class 'pandas.core.frame.DataFrame'>\n",
      "Int64Index: 16276 entries, 0 to 17711\n",
      "Data columns (total 3 columns):\n",
      " #   Column  Non-Null Count  Dtype \n",
      "---  ------  --------------  ----- \n",
      " 0   0       16276 non-null  object\n",
      " 1   1       310 non-null    object\n",
      " 2   2       5 non-null      object\n",
      "dtypes: object(3)\n",
      "memory usage: 508.6+ KB\n"
     ]
    }
   ],
   "source": [
    "r_movies_info_c2 = r_movies_info_c.drop_duplicates('title').copy()\n",
    "df_production = r_movies_info_c2[\"production_company\"].str.split('/',n = 3, expand = True)\n",
    "df_production.info()"
   ]
  },
  {
   "cell_type": "code",
   "execution_count": 10,
   "metadata": {},
   "outputs": [],
   "source": [
    "#df_production.loc[(df_production[1] != \"None\") & (df_production[2] != \"None\")]\n",
    "#df_production.dropna()\n",
    "df_production_solo = df_production.loc[(~df_production[0].index.isin(df_production[1].dropna().index)) & (~df_production[0].index.isin(df_production[2].dropna().index)), [0]]"
   ]
  },
  {
   "cell_type": "code",
   "execution_count": 11,
   "metadata": {},
   "outputs": [
    {
     "data": {
      "text/html": [
       "<div>\n",
       "<style scoped>\n",
       "    .dataframe tbody tr th:only-of-type {\n",
       "        vertical-align: middle;\n",
       "    }\n",
       "\n",
       "    .dataframe tbody tr th {\n",
       "        vertical-align: top;\n",
       "    }\n",
       "\n",
       "    .dataframe thead th {\n",
       "        text-align: right;\n",
       "    }\n",
       "</style>\n",
       "<table border=\"1\" class=\"dataframe\">\n",
       "  <thead>\n",
       "    <tr style=\"text-align: right;\">\n",
       "      <th></th>\n",
       "      <th>title</th>\n",
       "      <th>production_company</th>\n",
       "      <th>audience_status</th>\n",
       "      <th>audience_rating</th>\n",
       "      <th>audience_count</th>\n",
       "    </tr>\n",
       "  </thead>\n",
       "  <tbody>\n",
       "    <tr>\n",
       "      <th>0</th>\n",
       "      <td>Percy Jackson &amp; the Olympians: The Lightning T...</td>\n",
       "      <td>20th Century Fox</td>\n",
       "      <td>Spilled</td>\n",
       "      <td>53.0</td>\n",
       "      <td>254421.0</td>\n",
       "    </tr>\n",
       "    <tr>\n",
       "      <th>1</th>\n",
       "      <td>Please Give</td>\n",
       "      <td>Sony Pictures Classics</td>\n",
       "      <td>Upright</td>\n",
       "      <td>64.0</td>\n",
       "      <td>11574.0</td>\n",
       "    </tr>\n",
       "    <tr>\n",
       "      <th>2</th>\n",
       "      <td>10</td>\n",
       "      <td>Waner Bros.</td>\n",
       "      <td>Spilled</td>\n",
       "      <td>53.0</td>\n",
       "      <td>14684.0</td>\n",
       "    </tr>\n",
       "    <tr>\n",
       "      <th>3</th>\n",
       "      <td>12 Angry Men (Twelve Angry Men)</td>\n",
       "      <td>Criterion Collection</td>\n",
       "      <td>Upright</td>\n",
       "      <td>97.0</td>\n",
       "      <td>105386.0</td>\n",
       "    </tr>\n",
       "    <tr>\n",
       "      <th>4</th>\n",
       "      <td>20,000 Leagues Under The Sea</td>\n",
       "      <td>Disney</td>\n",
       "      <td>Upright</td>\n",
       "      <td>74.0</td>\n",
       "      <td>68918.0</td>\n",
       "    </tr>\n",
       "    <tr>\n",
       "      <th>...</th>\n",
       "      <td>...</td>\n",
       "      <td>...</td>\n",
       "      <td>...</td>\n",
       "      <td>...</td>\n",
       "      <td>...</td>\n",
       "    </tr>\n",
       "    <tr>\n",
       "      <th>17707</th>\n",
       "      <td>Zoot Suit</td>\n",
       "      <td>MCA Universal Home Video</td>\n",
       "      <td>Upright</td>\n",
       "      <td>74.0</td>\n",
       "      <td>1195.0</td>\n",
       "    </tr>\n",
       "    <tr>\n",
       "      <th>17708</th>\n",
       "      <td>Zootopia</td>\n",
       "      <td>Walt Disney Animation Studios</td>\n",
       "      <td>Upright</td>\n",
       "      <td>92.0</td>\n",
       "      <td>101511.0</td>\n",
       "    </tr>\n",
       "    <tr>\n",
       "      <th>17709</th>\n",
       "      <td>Zorba the Greek</td>\n",
       "      <td>Fox</td>\n",
       "      <td>Upright</td>\n",
       "      <td>86.0</td>\n",
       "      <td>7146.0</td>\n",
       "    </tr>\n",
       "    <tr>\n",
       "      <th>17710</th>\n",
       "      <td>Zulu</td>\n",
       "      <td>Paramount Pictures</td>\n",
       "      <td>Upright</td>\n",
       "      <td>91.0</td>\n",
       "      <td>30193.0</td>\n",
       "    </tr>\n",
       "    <tr>\n",
       "      <th>17711</th>\n",
       "      <td>Zulu Dawn</td>\n",
       "      <td>Tango Entertainment</td>\n",
       "      <td>Upright</td>\n",
       "      <td>62.0</td>\n",
       "      <td>4469.0</td>\n",
       "    </tr>\n",
       "  </tbody>\n",
       "</table>\n",
       "<p>16459 rows × 5 columns</p>\n",
       "</div>"
      ],
      "text/plain": [
       "                                                   title  \\\n",
       "0      Percy Jackson & the Olympians: The Lightning T...   \n",
       "1                                            Please Give   \n",
       "2                                                     10   \n",
       "3                        12 Angry Men (Twelve Angry Men)   \n",
       "4                           20,000 Leagues Under The Sea   \n",
       "...                                                  ...   \n",
       "17707                                          Zoot Suit   \n",
       "17708                                           Zootopia   \n",
       "17709                                    Zorba the Greek   \n",
       "17710                                               Zulu   \n",
       "17711                                          Zulu Dawn   \n",
       "\n",
       "                  production_company audience_status  audience_rating  \\\n",
       "0                   20th Century Fox         Spilled             53.0   \n",
       "1             Sony Pictures Classics         Upright             64.0   \n",
       "2                        Waner Bros.         Spilled             53.0   \n",
       "3               Criterion Collection         Upright             97.0   \n",
       "4                             Disney         Upright             74.0   \n",
       "...                              ...             ...              ...   \n",
       "17707       MCA Universal Home Video         Upright             74.0   \n",
       "17708  Walt Disney Animation Studios         Upright             92.0   \n",
       "17709                            Fox         Upright             86.0   \n",
       "17710             Paramount Pictures         Upright             91.0   \n",
       "17711            Tango Entertainment         Upright             62.0   \n",
       "\n",
       "       audience_count  \n",
       "0            254421.0  \n",
       "1             11574.0  \n",
       "2             14684.0  \n",
       "3            105386.0  \n",
       "4             68918.0  \n",
       "...               ...  \n",
       "17707          1195.0  \n",
       "17708        101511.0  \n",
       "17709          7146.0  \n",
       "17710         30193.0  \n",
       "17711          4469.0  \n",
       "\n",
       "[16459 rows x 5 columns]"
      ]
     },
     "execution_count": 11,
     "metadata": {},
     "output_type": "execute_result"
    }
   ],
   "source": [
    "# finding all the solo production company ratings\n",
    "df_production_solo = df_production.loc[(~df_production[0].index.isin(df_production[1].dropna().index)) & (~df_production[0].index.isin(df_production[2].dropna().index)), [0]]\n",
    "pc_names = df_production_solo[0].unique().tolist()\n",
    "r_solopc = r_movies_info_c.loc[r_movies_info_c[\"production_company\"].isin(pc_names)]\n",
    "r_solopc"
   ]
  },
  {
   "cell_type": "code",
   "execution_count": 12,
   "metadata": {},
   "outputs": [],
   "source": [
    "#Does being a solo company mean more to the audience Upright counter\n",
    "# Upright_solo = r_solopc.audience_upright.value_counts()\n",
    "# filled_solo = lambda x: 'Upright' if x == 1 else \"Spilled\"\n",
    "# plt.bar([filled_solo(x) for x in Upright_solo.index], Upright_solo.values)\n",
    "# plt.title('Rotten Reviews Upright or Spilled when only one Production Company');"
   ]
  },
  {
   "cell_type": "code",
   "execution_count": 13,
   "metadata": {},
   "outputs": [
    {
     "name": "stdout",
     "output_type": "stream",
     "text": [
      "<class 'pandas.core.frame.DataFrame'>\n",
      "Int64Index: 16459 entries, 0 to 17711\n",
      "Data columns (total 5 columns):\n",
      " #   Column              Non-Null Count  Dtype  \n",
      "---  ------              --------------  -----  \n",
      " 0   title               16459 non-null  object \n",
      " 1   production_company  16459 non-null  object \n",
      " 2   audience_status     16459 non-null  object \n",
      " 3   audience_rating     16459 non-null  float64\n",
      " 4   audience_count      16459 non-null  float64\n",
      "dtypes: float64(2), object(3)\n",
      "memory usage: 771.5+ KB\n"
     ]
    }
   ],
   "source": [
    "r_solopc.info()"
   ]
  },
  {
   "cell_type": "code",
   "execution_count": 14,
   "metadata": {},
   "outputs": [
    {
     "data": {
      "text/plain": [
       "(10604, 5)"
      ]
     },
     "execution_count": 14,
     "metadata": {},
     "output_type": "execute_result"
    }
   ],
   "source": [
    "r_solo_lessreviews = r_solopc.loc[r_solopc[\"audience_count\"].apply(lambda x: 10 < x < 10000)]\n",
    "r_solo_lessreviews.shape"
   ]
  },
  {
   "cell_type": "code",
   "execution_count": 15,
   "metadata": {},
   "outputs": [
    {
     "data": {
      "text/plain": [
       "(5732, 5)"
      ]
     },
     "execution_count": 15,
     "metadata": {},
     "output_type": "execute_result"
    }
   ],
   "source": [
    "r_solo_middle = r_solopc.loc[r_solopc[\"audience_count\"].apply(lambda x: 10000 < x < 10000000)]\n",
    "r_solo_middle.shape"
   ]
  },
  {
   "cell_type": "code",
   "execution_count": 16,
   "metadata": {},
   "outputs": [],
   "source": [
    "r_solo_ten_million = r_solopc.loc[r_solopc[\"audience_count\"].apply(lambda x:  x >= 10000000)]"
   ]
  },
  {
   "cell_type": "code",
   "execution_count": 17,
   "metadata": {},
   "outputs": [
    {
     "data": {
      "text/plain": [
       "(50, 5)"
      ]
     },
     "execution_count": 17,
     "metadata": {},
     "output_type": "execute_result"
    }
   ],
   "source": [
    "r_solo_ten_million.shape"
   ]
  },
  {
   "cell_type": "markdown",
   "metadata": {},
   "source": [
    "### Graphs for Rotten Tomatoes Viewer Reviews vs Viewer Ratings"
   ]
  },
  {
   "cell_type": "code",
   "execution_count": 18,
   "metadata": {},
   "outputs": [
    {
     "data": {
      "image/png": "[encoded data removed]",
      "text/plain": [
       "<Figure size 360x360 with 1 Axes>"
      ]
     },
     "metadata": {
      "needs_background": "light"
     },
     "output_type": "display_data"
    }
   ],
   "source": [
    "main_plot = sns.lmplot(data = r_solopc, x = \"audience_count\", y = \"audience_rating\", legend = True, markers=\".\", line_kws={'color': 'red'})\n",
    "main_plot.set(title=\"Rotten Tomatoes viewer reviews relationship to viewer ratings for Movies with only 1 Production Company\", xlabel=\"Viewer Review Counts\", ylabel=\"Viewer Ratings\");"
   ]
  },
  {
   "cell_type": "code",
   "execution_count": 19,
   "metadata": {},
   "outputs": [
    {
     "data": {
      "image/png": "[encoded data removed]",
      "text/plain": [
       "<Figure size 360x360 with 1 Axes>"
      ]
     },
     "metadata": {
      "needs_background": "light"
     },
     "output_type": "display_data"
    }
   ],
   "source": [
    "a_plot = sns.lmplot(data = r_solo_lessreviews, x = \"audience_count\", y = \"audience_rating\", legend = True , markers=\".\" , line_kws={'color': 'red'})\n",
    "a_plot.set(title=\"Rotten Tomatoes viewer reviews limited between 0 counts and 10,000\", xlabel=\"Viewer Review Counts\", ylabel=\"Viewer Ratings\", xlim=(0, 10000));"
   ]
  },
  {
   "cell_type": "code",
   "execution_count": 20,
   "metadata": {},
   "outputs": [
    {
     "data": {
      "image/png": "[encoded data removed]",
      "text/plain": [
       "<Figure size 360x360 with 1 Axes>"
      ]
     },
     "metadata": {
      "needs_background": "light"
     },
     "output_type": "display_data"
    }
   ],
   "source": [
    "b_plot = sns.lmplot(data = r_solo_middle, x = \"audience_count\", y = \"audience_rating\", legend = True , markers=\".\" , line_kws={'color': 'red'})\n",
    "b_plot.set(title=\"Rotten Tomatoes viewer reviews limited between 10000 counts and 10 million counts\", xlabel=\"Viewer Review Counts\", ylabel=\"Viewer Ratings\",xlim=(10000, 10000000));"
   ]
  },
  {
   "cell_type": "code",
   "execution_count": 21,
   "metadata": {},
   "outputs": [
    {
     "data": {
      "image/png": "[encoded data removed]",
      "text/plain": [
       "<Figure size 360x360 with 1 Axes>"
      ]
     },
     "metadata": {
      "needs_background": "light"
     },
     "output_type": "display_data"
    }
   ],
   "source": [
    "c_plot = sns.lmplot(data = r_solo_ten_million, x = \"audience_count\", y = \"audience_rating\", legend = True , markers=\".\" , line_kws={'color': 'red'})\n",
    "c_plot.set(title=\"Rotten Tomatoes viewer reviews limited between 10 million counts and 35 million counts\", xlabel=\"Viewer Review Counts\", ylabel=\"Viewer Ratings\", xlim=(10000000, 35000000));"
   ]
  },
  {
   "cell_type": "markdown",
   "metadata": {},
   "source": [
    "## Tomato Cleaning to use data from Budget information"
   ]
  },
  {
   "cell_type": "code",
   "execution_count": 22,
   "metadata": {},
   "outputs": [],
   "source": [
    "conn = sqlite3.connect('Prebuilt_stuff\\data\\movies.db')\n",
    "r_movie_title_clean = pd.read_sql('''\n",
    "SELECT movie_title as title\n",
    "FROM rotten_tomatoes_movies\n",
    "''', conn)"
   ]
  },
  {
   "cell_type": "code",
   "execution_count": 23,
   "metadata": {},
   "outputs": [],
   "source": [
    "r_movie_title_clean1 = r_movie_title_clean.drop_duplicates().copy()"
   ]
  },
  {
   "cell_type": "code",
   "execution_count": 24,
   "metadata": {},
   "outputs": [
    {
     "data": {
      "text/html": [
       "<div>\n",
       "<style scoped>\n",
       "    .dataframe tbody tr th:only-of-type {\n",
       "        vertical-align: middle;\n",
       "    }\n",
       "\n",
       "    .dataframe tbody tr th {\n",
       "        vertical-align: top;\n",
       "    }\n",
       "\n",
       "    .dataframe thead th {\n",
       "        text-align: right;\n",
       "    }\n",
       "</style>\n",
       "<table border=\"1\" class=\"dataframe\">\n",
       "  <thead>\n",
       "    <tr style=\"text-align: right;\">\n",
       "      <th></th>\n",
       "      <th>title</th>\n",
       "    </tr>\n",
       "  </thead>\n",
       "  <tbody>\n",
       "    <tr>\n",
       "      <th>0</th>\n",
       "      <td>Percy Jackson &amp; the Olympians: The Lightning T...</td>\n",
       "    </tr>\n",
       "    <tr>\n",
       "      <th>1</th>\n",
       "      <td>Please Give</td>\n",
       "    </tr>\n",
       "    <tr>\n",
       "      <th>2</th>\n",
       "      <td>10</td>\n",
       "    </tr>\n",
       "    <tr>\n",
       "      <th>3</th>\n",
       "      <td>Twelve Angry Men</td>\n",
       "    </tr>\n",
       "    <tr>\n",
       "      <th>4</th>\n",
       "      <td>20,000 Leagues Under The Sea</td>\n",
       "    </tr>\n",
       "    <tr>\n",
       "      <th>5</th>\n",
       "      <td>10,000 B.C.</td>\n",
       "    </tr>\n",
       "    <tr>\n",
       "      <th>6</th>\n",
       "      <td>The 39 Steps</td>\n",
       "    </tr>\n",
       "    <tr>\n",
       "      <th>7</th>\n",
       "      <td>3:10 to Yuma</td>\n",
       "    </tr>\n",
       "    <tr>\n",
       "      <th>8</th>\n",
       "      <td>Charly (A Heartbeat Away)</td>\n",
       "    </tr>\n",
       "    <tr>\n",
       "      <th>9</th>\n",
       "      <td>Abraham Lincoln</td>\n",
       "    </tr>\n",
       "    <tr>\n",
       "      <th>10</th>\n",
       "      <td>Dark Water</td>\n",
       "    </tr>\n",
       "    <tr>\n",
       "      <th>11</th>\n",
       "      <td>The Accused</td>\n",
       "    </tr>\n",
       "    <tr>\n",
       "      <th>12</th>\n",
       "      <td>The Lost City</td>\n",
       "    </tr>\n",
       "    <tr>\n",
       "      <th>13</th>\n",
       "      <td>The Breaking Point</td>\n",
       "    </tr>\n",
       "    <tr>\n",
       "      <th>14</th>\n",
       "      <td>Adam's Rib</td>\n",
       "    </tr>\n",
       "  </tbody>\n",
       "</table>\n",
       "</div>"
      ],
      "text/plain": [
       "                                                title\n",
       "0   Percy Jackson & the Olympians: The Lightning T...\n",
       "1                                         Please Give\n",
       "2                                                  10\n",
       "3                                    Twelve Angry Men\n",
       "4                        20,000 Leagues Under The Sea\n",
       "5                                         10,000 B.C.\n",
       "6                                        The 39 Steps\n",
       "7                                        3:10 to Yuma\n",
       "8                           Charly (A Heartbeat Away)\n",
       "9                                     Abraham Lincoln\n",
       "10                                         Dark Water\n",
       "11                                        The Accused\n",
       "12                                      The Lost City\n",
       "13                                 The Breaking Point\n",
       "14                                         Adam's Rib"
      ]
     },
     "execution_count": 24,
     "metadata": {},
     "output_type": "execute_result"
    }
   ],
   "source": [
    "r_movie_title_clean1.loc[3, ('title')] = \"Twelve Angry Men\"\n",
    "r_movie_title_clean1.head(15)"
   ]
  },
  {
   "cell_type": "code",
   "execution_count": 25,
   "metadata": {},
   "outputs": [],
   "source": [
    "# .replace('[^a-zA-Z0-9]', '_')r_movie_title_clean1.loc[:, \"title\"].apply(\n",
    "r_movie_title_clean2 = r_movie_title_clean1.apply(lambda x: x.str.lower().str.replace('[^a-zA-Z0-9]', '_')).copy()"
   ]
  },
  {
   "cell_type": "code",
   "execution_count": 26,
   "metadata": {},
   "outputs": [
    {
     "data": {
      "text/html": [
       "<div>\n",
       "<style scoped>\n",
       "    .dataframe tbody tr th:only-of-type {\n",
       "        vertical-align: middle;\n",
       "    }\n",
       "\n",
       "    .dataframe tbody tr th {\n",
       "        vertical-align: top;\n",
       "    }\n",
       "\n",
       "    .dataframe thead th {\n",
       "        text-align: right;\n",
       "    }\n",
       "</style>\n",
       "<table border=\"1\" class=\"dataframe\">\n",
       "  <thead>\n",
       "    <tr style=\"text-align: right;\">\n",
       "      <th></th>\n",
       "      <th>title</th>\n",
       "      <th>production_company</th>\n",
       "      <th>audience_status</th>\n",
       "      <th>audience_rating</th>\n",
       "      <th>audience_count</th>\n",
       "    </tr>\n",
       "  </thead>\n",
       "  <tbody>\n",
       "    <tr>\n",
       "      <th>0</th>\n",
       "      <td>Percy Jackson &amp; the Olympians: The Lightning T...</td>\n",
       "      <td>20th Century Fox</td>\n",
       "      <td>Spilled</td>\n",
       "      <td>53.0</td>\n",
       "      <td>254421.0</td>\n",
       "    </tr>\n",
       "    <tr>\n",
       "      <th>1</th>\n",
       "      <td>Please Give</td>\n",
       "      <td>Sony Pictures Classics</td>\n",
       "      <td>Upright</td>\n",
       "      <td>64.0</td>\n",
       "      <td>11574.0</td>\n",
       "    </tr>\n",
       "    <tr>\n",
       "      <th>2</th>\n",
       "      <td>10</td>\n",
       "      <td>Waner Bros.</td>\n",
       "      <td>Spilled</td>\n",
       "      <td>53.0</td>\n",
       "      <td>14684.0</td>\n",
       "    </tr>\n",
       "    <tr>\n",
       "      <th>3</th>\n",
       "      <td>12 Angry Men (Twelve Angry Men)</td>\n",
       "      <td>Criterion Collection</td>\n",
       "      <td>Upright</td>\n",
       "      <td>97.0</td>\n",
       "      <td>105386.0</td>\n",
       "    </tr>\n",
       "    <tr>\n",
       "      <th>4</th>\n",
       "      <td>20,000 Leagues Under The Sea</td>\n",
       "      <td>Disney</td>\n",
       "      <td>Upright</td>\n",
       "      <td>74.0</td>\n",
       "      <td>68918.0</td>\n",
       "    </tr>\n",
       "    <tr>\n",
       "      <th>...</th>\n",
       "      <td>...</td>\n",
       "      <td>...</td>\n",
       "      <td>...</td>\n",
       "      <td>...</td>\n",
       "      <td>...</td>\n",
       "    </tr>\n",
       "    <tr>\n",
       "      <th>17707</th>\n",
       "      <td>Zoot Suit</td>\n",
       "      <td>MCA Universal Home Video</td>\n",
       "      <td>Upright</td>\n",
       "      <td>74.0</td>\n",
       "      <td>1195.0</td>\n",
       "    </tr>\n",
       "    <tr>\n",
       "      <th>17708</th>\n",
       "      <td>Zootopia</td>\n",
       "      <td>Walt Disney Animation Studios</td>\n",
       "      <td>Upright</td>\n",
       "      <td>92.0</td>\n",
       "      <td>101511.0</td>\n",
       "    </tr>\n",
       "    <tr>\n",
       "      <th>17709</th>\n",
       "      <td>Zorba the Greek</td>\n",
       "      <td>Fox</td>\n",
       "      <td>Upright</td>\n",
       "      <td>86.0</td>\n",
       "      <td>7146.0</td>\n",
       "    </tr>\n",
       "    <tr>\n",
       "      <th>17710</th>\n",
       "      <td>Zulu</td>\n",
       "      <td>Paramount Pictures</td>\n",
       "      <td>Upright</td>\n",
       "      <td>91.0</td>\n",
       "      <td>30193.0</td>\n",
       "    </tr>\n",
       "    <tr>\n",
       "      <th>17711</th>\n",
       "      <td>Zulu Dawn</td>\n",
       "      <td>Tango Entertainment</td>\n",
       "      <td>Upright</td>\n",
       "      <td>62.0</td>\n",
       "      <td>4469.0</td>\n",
       "    </tr>\n",
       "  </tbody>\n",
       "</table>\n",
       "<p>16459 rows × 5 columns</p>\n",
       "</div>"
      ],
      "text/plain": [
       "                                                   title  \\\n",
       "0      Percy Jackson & the Olympians: The Lightning T...   \n",
       "1                                            Please Give   \n",
       "2                                                     10   \n",
       "3                        12 Angry Men (Twelve Angry Men)   \n",
       "4                           20,000 Leagues Under The Sea   \n",
       "...                                                  ...   \n",
       "17707                                          Zoot Suit   \n",
       "17708                                           Zootopia   \n",
       "17709                                    Zorba the Greek   \n",
       "17710                                               Zulu   \n",
       "17711                                          Zulu Dawn   \n",
       "\n",
       "                  production_company audience_status  audience_rating  \\\n",
       "0                   20th Century Fox         Spilled             53.0   \n",
       "1             Sony Pictures Classics         Upright             64.0   \n",
       "2                        Waner Bros.         Spilled             53.0   \n",
       "3               Criterion Collection         Upright             97.0   \n",
       "4                             Disney         Upright             74.0   \n",
       "...                              ...             ...              ...   \n",
       "17707       MCA Universal Home Video         Upright             74.0   \n",
       "17708  Walt Disney Animation Studios         Upright             92.0   \n",
       "17709                            Fox         Upright             86.0   \n",
       "17710             Paramount Pictures         Upright             91.0   \n",
       "17711            Tango Entertainment         Upright             62.0   \n",
       "\n",
       "       audience_count  \n",
       "0            254421.0  \n",
       "1             11574.0  \n",
       "2             14684.0  \n",
       "3            105386.0  \n",
       "4             68918.0  \n",
       "...               ...  \n",
       "17707          1195.0  \n",
       "17708        101511.0  \n",
       "17709          7146.0  \n",
       "17710         30193.0  \n",
       "17711          4469.0  \n",
       "\n",
       "[16459 rows x 5 columns]"
      ]
     },
     "execution_count": 26,
     "metadata": {},
     "output_type": "execute_result"
    }
   ],
   "source": [
    "r_solopc"
   ]
  },
  {
   "cell_type": "markdown",
   "metadata": {},
   "source": [
    "### **Clean Movie Titles!!**"
   ]
  },
  {
   "cell_type": "code",
   "execution_count": 30,
   "metadata": {},
   "outputs": [
    {
     "name": "stderr",
     "output_type": "stream",
     "text": [
      "<ipython-input-30-3371cec4be52>:1: SettingWithCopyWarning: \n",
      "A value is trying to be set on a copy of a slice from a DataFrame.\n",
      "Try using .loc[row_indexer,col_indexer] = value instead\n",
      "\n",
      "See the caveats in the documentation: https://pandas.pydata.org/pandas-docs/stable/user_guide/indexing.html#returning-a-view-versus-a-copy\n",
      "  r_solopc[\"title\"] = r_solopc[\"title\"].str.lower().str.replace('[^a-zA-Z0-9]', '_').copy()\n"
     ]
    }
   ],
   "source": [
    "r_solopc[\"title\"] = r_solopc[\"title\"].str.lower().str.replace('[^a-zA-Z0-9]', '_').copy()\n",
    "# r_solopc.drop(columns=\"movie_title\", inplace=True)"
   ]
  },
  {
   "cell_type": "code",
   "execution_count": 31,
   "metadata": {},
   "outputs": [
    {
     "data": {
      "text/html": [
       "<div>\n",
       "<style scoped>\n",
       "    .dataframe tbody tr th:only-of-type {\n",
       "        vertical-align: middle;\n",
       "    }\n",
       "\n",
       "    .dataframe tbody tr th {\n",
       "        vertical-align: top;\n",
       "    }\n",
       "\n",
       "    .dataframe thead th {\n",
       "        text-align: right;\n",
       "    }\n",
       "</style>\n",
       "<table border=\"1\" class=\"dataframe\">\n",
       "  <thead>\n",
       "    <tr style=\"text-align: right;\">\n",
       "      <th></th>\n",
       "      <th>title</th>\n",
       "      <th>production_company</th>\n",
       "      <th>audience_status</th>\n",
       "      <th>audience_rating</th>\n",
       "      <th>audience_count</th>\n",
       "    </tr>\n",
       "  </thead>\n",
       "  <tbody>\n",
       "    <tr>\n",
       "      <th>0</th>\n",
       "      <td>percy_jackson___the_olympians__the_lightning_t...</td>\n",
       "      <td>20th Century Fox</td>\n",
       "      <td>Spilled</td>\n",
       "      <td>53.0</td>\n",
       "      <td>254421.0</td>\n",
       "    </tr>\n",
       "    <tr>\n",
       "      <th>1</th>\n",
       "      <td>please_give</td>\n",
       "      <td>Sony Pictures Classics</td>\n",
       "      <td>Upright</td>\n",
       "      <td>64.0</td>\n",
       "      <td>11574.0</td>\n",
       "    </tr>\n",
       "    <tr>\n",
       "      <th>2</th>\n",
       "      <td>10</td>\n",
       "      <td>Waner Bros.</td>\n",
       "      <td>Spilled</td>\n",
       "      <td>53.0</td>\n",
       "      <td>14684.0</td>\n",
       "    </tr>\n",
       "    <tr>\n",
       "      <th>3</th>\n",
       "      <td>12_angry_men__twelve_angry_men_</td>\n",
       "      <td>Criterion Collection</td>\n",
       "      <td>Upright</td>\n",
       "      <td>97.0</td>\n",
       "      <td>105386.0</td>\n",
       "    </tr>\n",
       "    <tr>\n",
       "      <th>4</th>\n",
       "      <td>20_000_leagues_under_the_sea</td>\n",
       "      <td>Disney</td>\n",
       "      <td>Upright</td>\n",
       "      <td>74.0</td>\n",
       "      <td>68918.0</td>\n",
       "    </tr>\n",
       "    <tr>\n",
       "      <th>...</th>\n",
       "      <td>...</td>\n",
       "      <td>...</td>\n",
       "      <td>...</td>\n",
       "      <td>...</td>\n",
       "      <td>...</td>\n",
       "    </tr>\n",
       "    <tr>\n",
       "      <th>17707</th>\n",
       "      <td>zoot_suit</td>\n",
       "      <td>MCA Universal Home Video</td>\n",
       "      <td>Upright</td>\n",
       "      <td>74.0</td>\n",
       "      <td>1195.0</td>\n",
       "    </tr>\n",
       "    <tr>\n",
       "      <th>17708</th>\n",
       "      <td>zootopia</td>\n",
       "      <td>Walt Disney Animation Studios</td>\n",
       "      <td>Upright</td>\n",
       "      <td>92.0</td>\n",
       "      <td>101511.0</td>\n",
       "    </tr>\n",
       "    <tr>\n",
       "      <th>17709</th>\n",
       "      <td>zorba_the_greek</td>\n",
       "      <td>Fox</td>\n",
       "      <td>Upright</td>\n",
       "      <td>86.0</td>\n",
       "      <td>7146.0</td>\n",
       "    </tr>\n",
       "    <tr>\n",
       "      <th>17710</th>\n",
       "      <td>zulu</td>\n",
       "      <td>Paramount Pictures</td>\n",
       "      <td>Upright</td>\n",
       "      <td>91.0</td>\n",
       "      <td>30193.0</td>\n",
       "    </tr>\n",
       "    <tr>\n",
       "      <th>17711</th>\n",
       "      <td>zulu_dawn</td>\n",
       "      <td>Tango Entertainment</td>\n",
       "      <td>Upright</td>\n",
       "      <td>62.0</td>\n",
       "      <td>4469.0</td>\n",
       "    </tr>\n",
       "  </tbody>\n",
       "</table>\n",
       "<p>16459 rows × 5 columns</p>\n",
       "</div>"
      ],
      "text/plain": [
       "                                                   title  \\\n",
       "0      percy_jackson___the_olympians__the_lightning_t...   \n",
       "1                                            please_give   \n",
       "2                                                     10   \n",
       "3                        12_angry_men__twelve_angry_men_   \n",
       "4                           20_000_leagues_under_the_sea   \n",
       "...                                                  ...   \n",
       "17707                                          zoot_suit   \n",
       "17708                                           zootopia   \n",
       "17709                                    zorba_the_greek   \n",
       "17710                                               zulu   \n",
       "17711                                          zulu_dawn   \n",
       "\n",
       "                  production_company audience_status  audience_rating  \\\n",
       "0                   20th Century Fox         Spilled             53.0   \n",
       "1             Sony Pictures Classics         Upright             64.0   \n",
       "2                        Waner Bros.         Spilled             53.0   \n",
       "3               Criterion Collection         Upright             97.0   \n",
       "4                             Disney         Upright             74.0   \n",
       "...                              ...             ...              ...   \n",
       "17707       MCA Universal Home Video         Upright             74.0   \n",
       "17708  Walt Disney Animation Studios         Upright             92.0   \n",
       "17709                            Fox         Upright             86.0   \n",
       "17710             Paramount Pictures         Upright             91.0   \n",
       "17711            Tango Entertainment         Upright             62.0   \n",
       "\n",
       "       audience_count  \n",
       "0            254421.0  \n",
       "1             11574.0  \n",
       "2             14684.0  \n",
       "3            105386.0  \n",
       "4             68918.0  \n",
       "...               ...  \n",
       "17707          1195.0  \n",
       "17708        101511.0  \n",
       "17709          7146.0  \n",
       "17710         30193.0  \n",
       "17711          4469.0  \n",
       "\n",
       "[16459 rows x 5 columns]"
      ]
     },
     "execution_count": 31,
     "metadata": {},
     "output_type": "execute_result"
    }
   ],
   "source": [
    "r_solopc"
   ]
  },
  {
   "cell_type": "code",
   "execution_count": null,
   "metadata": {},
   "outputs": [],
   "source": [
    "r_solopc[\"title\"]=r_solopc[\"clean_titles\"]"
   ]
  },
  {
   "cell_type": "code",
   "execution_count": null,
   "metadata": {},
   "outputs": [],
   "source": [
    "r_movie_title_clean2"
   ]
  },
  {
   "cell_type": "code",
   "execution_count": null,
   "metadata": {},
   "outputs": [],
   "source": [
    "conn = sqlite3.connect('Prebuilt_stuff\\data\\movies.db')\n",
    "df_moviename1 = pd.read_sql('''\n",
    "SELECT title\n",
    "FROM tmdb_movies\n",
    "''', conn)"
   ]
  },
  {
   "cell_type": "code",
   "execution_count": null,
   "metadata": {},
   "outputs": [],
   "source": [
    "df_movie_clean1 = df_moviename1.drop_duplicates().apply(lambda x: x.str.lower().str.replace('[^a-zA-Z0-9]', '_')).copy()\n",
    "df_movie_clean1"
   ]
  },
  {
   "cell_type": "code",
   "execution_count": null,
   "metadata": {},
   "outputs": [],
   "source": [
    "clean_movie_mix = df_movie_clean1.merge(r_movie_title_clean2, on=[\"title\"], how=\"outer\", indicator=(\"where\")).copy()"
   ]
  },
  {
   "cell_type": "code",
   "execution_count": null,
   "metadata": {},
   "outputs": [],
   "source": [
    "clean_movie_mix"
   ]
  },
  {
   "cell_type": "code",
   "execution_count": null,
   "metadata": {},
   "outputs": [],
   "source": [
    "clean_movie_mix[\"where\"].value_counts()"
   ]
  },
  {
   "cell_type": "code",
   "execution_count": null,
   "metadata": {},
   "outputs": [],
   "source": [
    "sns.histplot(data = clean_movie_mix, x=\"where\");"
   ]
  },
  {
   "cell_type": "code",
   "execution_count": null,
   "metadata": {},
   "outputs": [],
   "source": [
    "full_clean_title = df_movie_clean1.merge(r_solopc, on=[\"title\"], how=\"outer\", indicator=(\"where\")).copy()"
   ]
  },
  {
   "cell_type": "code",
   "execution_count": null,
   "metadata": {},
   "outputs": [],
   "source": [
    "#One time upload to a csv\n",
    "# full_clean_title.to_csv(\"Prebuilt_stuff/data/rotten_tomatoes_clean_titles.csv\")"
   ]
  },
  {
   "cell_type": "code",
   "execution_count": null,
   "metadata": {},
   "outputs": [],
   "source": [
    "df_1 = pd.read_csv('Prebuilt_stuff/data/zippedData/bom.movie_gross.csv.gz')\n",
    "df_1.head()"
   ]
  },
  {
   "cell_type": "code",
   "execution_count": null,
   "metadata": {},
   "outputs": [],
   "source": [
    "sns.scatterplot(data=df_1, x=df_1[\"title\"].value_counts(), y=df_1['domestic_gross'])"
   ]
  },
  {
   "cell_type": "code",
   "execution_count": null,
   "metadata": {},
   "outputs": [],
   "source": []
  }
 ],
 "metadata": {
  "kernelspec": {
   "display_name": "learn-env",
   "language": "python",
   "name": "learn-env"
  },
  "language_info": {
   "codemirror_mode": {
    "name": "ipython",
    "version": 3
   },
   "file_extension": ".py",
   "mimetype": "text/x-python",
   "name": "python",
   "nbconvert_exporter": "python",
   "pygments_lexer": "ipython3",
   "version": "3.8.5"
  }
 },
 "nbformat": 4,
 "nbformat_minor": 4
}
