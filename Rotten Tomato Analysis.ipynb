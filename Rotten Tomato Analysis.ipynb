{
 "cells": [
  {
   "cell_type": "markdown",
   "metadata": {},
   "source": [
    "pip install aquirdturtle_collapsible_headings"
   ]
  },
  {
   "cell_type": "code",
   "execution_count": 118,
   "metadata": {},
   "outputs": [],
   "source": [
    "import pandas as pd\n",
    "import json\n",
    "import sqlite3\n",
    "import matplotlib.pyplot as plt\n",
    "from scipy import stats"
   ]
  },
  {
   "cell_type": "markdown",
   "metadata": {},
   "source": [
    "# **First steps**\n",
    "\n",
    "## Questions:\n",
    "\n",
    "What data in rotten_tomatoes_movies data is useful for a successful business?<br>\n",
    "Does the audience review data have a correlation with budget?<br>\n",
    "Does the production company have any effect on the audiece rating?<br>"
   ]
  },
  {
   "cell_type": "markdown",
   "metadata": {},
   "source": [
    "![movies.db schema](Prebuilt_stuff/images/movies_db_schema.png)"
   ]
  },
  {
   "cell_type": "code",
   "execution_count": 2,
   "metadata": {},
   "outputs": [],
   "source": [
    "#What is in this SQL table\n",
    "conn = sqlite3.connect('Prebuilt_stuff\\data\\movies.db')\n",
    "df_rotten_movies = pd.read_sql('''\n",
    "SELECT *\n",
    "FROM rotten_tomatoes_movies\n",
    "''', conn)"
   ]
  },
  {
   "cell_type": "code",
   "execution_count": 3,
   "metadata": {},
   "outputs": [],
   "source": [
    "#The sql information I want to clean and review, based on citation 1 (https://phys.org/news/2017-05-movies-highly-idiosyncraticand-odds-critics.html)\n",
    "conn = sqlite3.connect('Prebuilt_stuff\\data\\movies.db')\n",
    "r_movies_info = pd.read_sql('''\n",
    "SELECT movie_title, production_company, audience_status, audience_rating, audience_count\n",
    "FROM rotten_tomatoes_movies\n",
    "''', conn)"
   ]
  },
  {
   "cell_type": "code",
   "execution_count": 4,
   "metadata": {},
   "outputs": [],
   "source": [
    "r_movies_info_c = r_movies_info.dropna()"
   ]
  },
  {
   "cell_type": "code",
   "execution_count": 5,
   "metadata": {},
   "outputs": [
    {
     "name": "stdout",
     "output_type": "stream",
     "text": [
      "(16832, 5)\n"
     ]
    },
    {
     "data": {
      "text/plain": [
       "(17712, 23)"
      ]
     },
     "execution_count": 5,
     "metadata": {},
     "output_type": "execute_result"
    }
   ],
   "source": [
    "#Comparing how much data was dropped and reduced during stage one cleaning.\n",
    "print(r_movies_info_c.shape)\n",
    "df_rotten_movies.shape"
   ]
  },
  {
   "cell_type": "markdown",
   "metadata": {},
   "source": [
    "### Rotten Tomatoe audience rating:\n",
    "\n",
    "Using Rotten Tomatoes spilled rating score (https://www.rottentomatoes.com/about#whatisthetomatometer) comparing how many in the data base are upright or not."
   ]
  },
  {
   "cell_type": "code",
   "execution_count": 106,
   "metadata": {},
   "outputs": [
    {
     "name": "stderr",
     "output_type": "stream",
     "text": [
      "<ipython-input-106-924f8b2386cf>:1: SettingWithCopyWarning: \n",
      "A value is trying to be set on a copy of a slice from a DataFrame.\n",
      "Try using .loc[row_indexer,col_indexer] = value instead\n",
      "\n",
      "See the caveats in the documentation: https://pandas.pydata.org/pandas-docs/stable/user_guide/indexing.html#returning-a-view-versus-a-copy\n",
      "  r_movies_info_c[\"audience_upright\"] = r_movies_info_c.loc[(r_movies_info_c[\"audience_status\"] == \"Upright\")]\n"
     ]
    }
   ],
   "source": [
    "r_movies_info_c[\"audience_upright\"] = r_movies_info_c.loc[(r_movies_info_c[\"audience_status\"] == \"Upright\")]\n",
    "# r_movies_info_c2 = r_movies_info_c.drop_duplicates('movie_title')"
   ]
  },
  {
   "cell_type": "code",
   "execution_count": 107,
   "metadata": {},
   "outputs": [
    {
     "data": {
      "image/png": "[encoded data removed]",
      "text/plain": [
       "<Figure size 432x288 with 1 Axes>"
      ]
     },
     "metadata": {
      "needs_background": "light"
     },
     "output_type": "display_data"
    }
   ],
   "source": [
    "Upright = r_movies_info_c2.audience_upright.value_counts()\n",
    "filled = lambda x: 'Upright' if x == 1 else \"Spilled\"\n",
    "plt.bar([filled(x) for x in Upright.index], Upright.values)\n",
    "plt.title('Rotten Reviews Upright or Spilled');"
   ]
  },
  {
   "cell_type": "code",
   "execution_count": 12,
   "metadata": {},
   "outputs": [],
   "source": [
    "r_ratings_upright = r_movies_info_c2.loc[r_movies_info_c2[\"audience_upright\"] == 1]"
   ]
  },
  {
   "cell_type": "code",
   "execution_count": 47,
   "metadata": {},
   "outputs": [
    {
     "name": "stdout",
     "output_type": "stream",
     "text": [
      "<class 'pandas.core.frame.DataFrame'>\n",
      "Int64Index: 8892 entries, 1 to 17711\n",
      "Data columns (total 3 columns):\n",
      " #   Column  Non-Null Count  Dtype \n",
      "---  ------  --------------  ----- \n",
      " 0   0       8892 non-null   object\n",
      " 1   1       153 non-null    object\n",
      " 2   2       3 non-null      object\n",
      "dtypes: object(3)\n",
      "memory usage: 277.9+ KB\n"
     ]
    }
   ],
   "source": [
    "df_production = r_ratings_upright[\"production_company\"].str.split('/',n = 3, expand = True)\n",
    "df_production.info()"
   ]
  },
  {
   "cell_type": "code",
   "execution_count": 77,
   "metadata": {},
   "outputs": [],
   "source": [
    "#df_production.loc[(df_production[1] != \"None\") & (df_production[2] != \"None\")]\n",
    "#df_production.dropna()\n",
    "df_production_solo = df_production.loc[(~df_production[0].index.isin(df_production[1].dropna().index)) & (~df_production[0].index.isin(df_production[2].dropna().index)), [0]]"
   ]
  },
  {
   "cell_type": "code",
   "execution_count": 108,
   "metadata": {},
   "outputs": [],
   "source": [
    "# finding all the solo production company ratings\n",
    "df_production_solo = df_production.loc[(~df_production[0].index.isin(df_production[1].dropna().index)) & (~df_production[0].index.isin(df_production[2].dropna().index)), [0]]\n",
    "pc_names = df_production_solo[0].unique().tolist()\n",
    "r_solopc = r_movies_info_c2.loc[r_movies_info_c2[\"production_company\"].isin(pc_names)]"
   ]
  },
  {
   "cell_type": "code",
   "execution_count": 117,
   "metadata": {},
   "outputs": [
    {
     "data": {
      "image/png": "[encoded data removed]",
      "text/plain": [
       "<Figure size 432x288 with 1 Axes>"
      ]
     },
     "metadata": {
      "needs_background": "light"
     },
     "output_type": "display_data"
    }
   ],
   "source": [
    "#Does being a solo company mean more to the audience Upright counter\n",
    "Upright_solo = r_solopc.audience_upright.value_counts()\n",
    "filled_solo = lambda x: 'Upright' if x == 1 else \"Spilled\"\n",
    "plt.bar([filled_solo(x) for x in Upright_solo.index], Upright_solo.values)\n",
    "plt.title('Rotten Reviews Upright or Spilled when only one Production Company');"
   ]
  },
  {
   "cell_type": "code",
   "execution_count": 138,
   "metadata": {},
   "outputs": [],
   "source": [
    "r_solopc_average = r_solopc.groupby([\"production_company\"]).mean()"
   ]
  },
  {
   "cell_type": "code",
   "execution_count": 141,
   "metadata": {},
   "outputs": [
    {
     "data": {
      "text/plain": [
       "production_company\n",
       "10 West Studios                    68.000000\n",
       "1091                               72.500000\n",
       "1428 Films                         73.000000\n",
       "20th Century Fox                   60.872818\n",
       "20th Century Fox Distribution      64.000000\n",
       "                                     ...    \n",
       "cinTBLAST!                         64.000000\n",
       "eOne Entertainment Distribution    81.000000\n",
       "eRealBiz                           70.000000\n",
       "levelFILM                          54.500000\n",
       "s                                  62.666667\n",
       "Name: audience_rating, Length: 1724, dtype: float64"
      ]
     },
     "execution_count": 141,
     "metadata": {},
     "output_type": "execute_result"
    }
   ],
   "source": [
    "r_solopc_average[\"audience_rating\"]"
   ]
  },
  {
   "cell_type": "code",
   "execution_count": 150,
   "metadata": {},
   "outputs": [
    {
     "data": {
      "text/plain": [
       "0        Percy Jackson & the Olympians: The Lightning T...\n",
       "1                                              Please Give\n",
       "3                          12 Angry Men (Twelve Angry Men)\n",
       "4                             20,000 Leagues Under The Sea\n",
       "5                                              10,000 B.C.\n",
       "                               ...                        \n",
       "17707                                            Zoot Suit\n",
       "17708                                             Zootopia\n",
       "17709                                      Zorba the Greek\n",
       "17710                                                 Zulu\n",
       "17711                                            Zulu Dawn\n",
       "Name: movie_title, Length: 14792, dtype: object"
      ]
     },
     "execution_count": 150,
     "metadata": {},
     "output_type": "execute_result"
    }
   ],
   "source": [
    "r_solopc[\"movie_title\"].apply(lambda x: x.replace(\",\"))"
   ]
  },
  {
   "cell_type": "code",
   "execution_count": null,
   "metadata": {},
   "outputs": [],
   "source": []
  },
  {
   "cell_type": "code",
   "execution_count": 148,
   "metadata": {},
   "outputs": [],
   "source": [
    "conn = sqlite3.connect('Prebuilt_stuff\\data\\movies.db')\n",
    "df_movie_budgets = pd.read_sql('''\n",
    "SELECT movie\n",
    "FROM tn_movie_budgets\n",
    "''', conn)"
   ]
  },
  {
   "cell_type": "code",
   "execution_count": 149,
   "metadata": {},
   "outputs": [
    {
     "data": {
      "text/html": [
       "<div>\n",
       "<style scoped>\n",
       "    .dataframe tbody tr th:only-of-type {\n",
       "        vertical-align: middle;\n",
       "    }\n",
       "\n",
       "    .dataframe tbody tr th {\n",
       "        vertical-align: top;\n",
       "    }\n",
       "\n",
       "    .dataframe thead th {\n",
       "        text-align: right;\n",
       "    }\n",
       "</style>\n",
       "<table border=\"1\" class=\"dataframe\">\n",
       "  <thead>\n",
       "    <tr style=\"text-align: right;\">\n",
       "      <th></th>\n",
       "      <th>movie</th>\n",
       "    </tr>\n",
       "  </thead>\n",
       "  <tbody>\n",
       "    <tr>\n",
       "      <th>0</th>\n",
       "      <td>Avatar</td>\n",
       "    </tr>\n",
       "    <tr>\n",
       "      <th>1</th>\n",
       "      <td>Pirates of the Caribbean: On Stranger Tides</td>\n",
       "    </tr>\n",
       "    <tr>\n",
       "      <th>2</th>\n",
       "      <td>Dark Phoenix</td>\n",
       "    </tr>\n",
       "    <tr>\n",
       "      <th>3</th>\n",
       "      <td>Avengers: Age of Ultron</td>\n",
       "    </tr>\n",
       "    <tr>\n",
       "      <th>4</th>\n",
       "      <td>Star Wars Ep. VIII: The Last Jedi</td>\n",
       "    </tr>\n",
       "    <tr>\n",
       "      <th>...</th>\n",
       "      <td>...</td>\n",
       "    </tr>\n",
       "    <tr>\n",
       "      <th>5777</th>\n",
       "      <td>Red 11</td>\n",
       "    </tr>\n",
       "    <tr>\n",
       "      <th>5778</th>\n",
       "      <td>Following</td>\n",
       "    </tr>\n",
       "    <tr>\n",
       "      <th>5779</th>\n",
       "      <td>Return to the Land of Wonders</td>\n",
       "    </tr>\n",
       "    <tr>\n",
       "      <th>5780</th>\n",
       "      <td>A Plague So Pleasant</td>\n",
       "    </tr>\n",
       "    <tr>\n",
       "      <th>5781</th>\n",
       "      <td>My Date With Drew</td>\n",
       "    </tr>\n",
       "  </tbody>\n",
       "</table>\n",
       "<p>5782 rows × 1 columns</p>\n",
       "</div>"
      ],
      "text/plain": [
       "                                            movie\n",
       "0                                          Avatar\n",
       "1     Pirates of the Caribbean: On Stranger Tides\n",
       "2                                    Dark Phoenix\n",
       "3                         Avengers: Age of Ultron\n",
       "4               Star Wars Ep. VIII: The Last Jedi\n",
       "...                                           ...\n",
       "5777                                       Red 11\n",
       "5778                                    Following\n",
       "5779                Return to the Land of Wonders\n",
       "5780                         A Plague So Pleasant\n",
       "5781                            My Date With Drew\n",
       "\n",
       "[5782 rows x 1 columns]"
      ]
     },
     "execution_count": 149,
     "metadata": {},
     "output_type": "execute_result"
    }
   ],
   "source": [
    "df_movie_budgets"
   ]
  },
  {
   "cell_type": "code",
   "execution_count": null,
   "metadata": {},
   "outputs": [],
   "source": []
  }
 ],
 "metadata": {
  "kernelspec": {
   "display_name": "learn-env",
   "language": "python",
   "name": "learn-env"
  },
  "language_info": {
   "codemirror_mode": {
    "name": "ipython",
    "version": 3
   },
   "file_extension": ".py",
   "mimetype": "text/x-python",
   "name": "python",
   "nbconvert_exporter": "python",
   "pygments_lexer": "ipython3",
   "version": "3.8.5"
  }
 },
 "nbformat": 4,
 "nbformat_minor": 4
}
